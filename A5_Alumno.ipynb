{
  "nbformat": 4,
  "nbformat_minor": 0,
  "metadata": {
    "colab": {
      "provenance": [],
      "toc_visible": true
    },
    "kernelspec": {
      "name": "python3",
      "display_name": "Python 3"
    },
    "language_info": {
      "name": "python"
    }
  },
  "cells": [
    {
      "cell_type": "markdown",
      "source": [
        "# Utility Methods"
      ],
      "metadata": {
        "id": "9vFDJb0qAzpT"
      }
    },
    {
      "cell_type": "code",
      "execution_count": 1,
      "metadata": {
        "id": "ZmfgK8SsAr_l"
      },
      "outputs": [],
      "source": [
        "from IPython import get_ipython\n",
        "import ast\n",
        "from ast import *\n",
        "import inspect\n",
        "from typing import Any\n",
        "import re\n",
        "\n",
        "def source_cell(cell_id):\n",
        "  ipython = get_ipython()\n",
        "  cells = ipython.history_manager.input_hist_raw\n",
        "  pattern = re.compile(rf\"^\\s*#\\s*code:\\s*{cell_id}\\s*$\", re.IGNORECASE)\n",
        "\n",
        "  for index, cell in enumerate(cells):\n",
        "    if cell:\n",
        "      first_line = cell.strip().splitlines()[0]\n",
        "      if pattern.match(first_line):\n",
        "          return cell\n",
        "\n",
        "  return None\n",
        "\n",
        "def ast_cls_assert(node_A,node_B):\n",
        "  print(\"Result:\")\n",
        "  print(ast.unparse(node_A))\n",
        "  print(\"Expected:\")\n",
        "  print(ast.unparse(node_B))\n",
        "  assert ast.dump(node_A) == ast.dump(node_B), \"Assertion Failed\"\n",
        "  print(\"Assertion passed\")\n",
        "\n",
        "\n",
        "import ast\n",
        "from ast import *\n",
        "import inspect\n",
        "# it assume that both are function def\n",
        "def ast_fun_assert(node_A,node_B):\n",
        "  a = node_A.body[0]\n",
        "  a.name='anom'\n",
        "  b = node_B.body[0]\n",
        "  b.name='anom'\n",
        "  assert ast.dump(a) == ast.dump(b), \"Assertion Failed\"\n",
        "  print(\"Assertion passed\")"
      ]
    },
    {
      "cell_type": "markdown",
      "source": [
        "# Ejercicio 1: bad type checking\n",
        "\n",
        "Se considera que el siguiente código en python:\n",
        "\n",
        "```\n",
        "x = 2\n",
        "if type(x) == int:\n",
        "    print(\"Integer\")\n",
        "```\n",
        "Cree un transformador que auto-repare el código anterior utilizando la función isinstance en python\n",
        "\n",
        "```\n",
        "if isinstance(x,int):\n",
        "    print(\"Integer\")\n",
        "```"
      ],
      "metadata": {
        "id": "C1wUYYHACNTy"
      }
    },
    {
      "cell_type": "markdown",
      "source": [
        "## Test Code"
      ],
      "metadata": {
        "id": "DvwfpXUSCQyY"
      }
    },
    {
      "cell_type": "code",
      "source": [
        "def example_before(x):\n",
        "  if type(x) == int:\n",
        "    print(\"Integer\")\n",
        "\n",
        "def example_after(x):\n",
        "  if isinstance(x,int):\n",
        "    print(\"Integer\")"
      ],
      "metadata": {
        "id": "nfMoE35kCR5N"
      },
      "execution_count": 2,
      "outputs": []
    },
    {
      "cell_type": "markdown",
      "source": [
        "## Complete Transformer\n"
      ],
      "metadata": {
        "id": "Qnh9jtaYCSU4"
      }
    },
    {
      "cell_type": "code",
      "source": [
        "class CheckTypeTransformer(NodeTransformer):\n",
        "  pass"
      ],
      "metadata": {
        "id": "Ujq5KuY-CUcg"
      },
      "execution_count": 3,
      "outputs": []
    },
    {
      "cell_type": "markdown",
      "source": [
        "## Test"
      ],
      "metadata": {
        "id": "WWC1BnNuCWZT"
      }
    },
    {
      "cell_type": "code",
      "source": [
        "# Arrange\n",
        "before_ast =  ast.parse(inspect.getsource(example_before))\n",
        "expected_ast =  ast.parse(inspect.getsource(example_after))\n",
        "# Act\n",
        "transformer = CheckTypeTransformer()\n",
        "after_ast = transformer.visit(before_ast)\n",
        "ast.fix_missing_locations(after_ast)\n",
        "# Assert\n",
        "ast_fun_assert(after_ast, expected_ast)"
      ],
      "metadata": {
        "id": "fXAqWlnMCXhc",
        "outputId": "cf73d8a4-a1b7-48c3-d685-bf20aeb4ace7",
        "colab": {
          "base_uri": "https://localhost:8080/",
          "height": 291
        }
      },
      "execution_count": 4,
      "outputs": [
        {
          "output_type": "error",
          "ename": "AssertionError",
          "evalue": "Assertion Failed",
          "traceback": [
            "\u001b[0;31m---------------------------------------------------------------------------\u001b[0m",
            "\u001b[0;31mAssertionError\u001b[0m                            Traceback (most recent call last)",
            "\u001b[0;32m<ipython-input-4-50c2f0d4b9ac>\u001b[0m in \u001b[0;36m<cell line: 9>\u001b[0;34m()\u001b[0m\n\u001b[1;32m      7\u001b[0m \u001b[0mast\u001b[0m\u001b[0;34m.\u001b[0m\u001b[0mfix_missing_locations\u001b[0m\u001b[0;34m(\u001b[0m\u001b[0mafter_ast\u001b[0m\u001b[0;34m)\u001b[0m\u001b[0;34m\u001b[0m\u001b[0;34m\u001b[0m\u001b[0m\n\u001b[1;32m      8\u001b[0m \u001b[0;31m# Assert\u001b[0m\u001b[0;34m\u001b[0m\u001b[0;34m\u001b[0m\u001b[0m\n\u001b[0;32m----> 9\u001b[0;31m \u001b[0mast_fun_assert\u001b[0m\u001b[0;34m(\u001b[0m\u001b[0mafter_ast\u001b[0m\u001b[0;34m,\u001b[0m\u001b[0mexpected_ast\u001b[0m\u001b[0;34m)\u001b[0m\u001b[0;34m\u001b[0m\u001b[0;34m\u001b[0m\u001b[0m\n\u001b[0m",
            "\u001b[0;32m<ipython-input-1-802b62107723>\u001b[0m in \u001b[0;36mast_fun_assert\u001b[0;34m(node_A, node_B)\u001b[0m\n\u001b[1;32m     37\u001b[0m   \u001b[0mb\u001b[0m \u001b[0;34m=\u001b[0m \u001b[0mnode_B\u001b[0m\u001b[0;34m.\u001b[0m\u001b[0mbody\u001b[0m\u001b[0;34m[\u001b[0m\u001b[0;36m0\u001b[0m\u001b[0;34m]\u001b[0m\u001b[0;34m\u001b[0m\u001b[0;34m\u001b[0m\u001b[0m\n\u001b[1;32m     38\u001b[0m   \u001b[0mb\u001b[0m\u001b[0;34m.\u001b[0m\u001b[0mname\u001b[0m\u001b[0;34m=\u001b[0m\u001b[0;34m'anom'\u001b[0m\u001b[0;34m\u001b[0m\u001b[0;34m\u001b[0m\u001b[0m\n\u001b[0;32m---> 39\u001b[0;31m   \u001b[0;32massert\u001b[0m \u001b[0mast\u001b[0m\u001b[0;34m.\u001b[0m\u001b[0mdump\u001b[0m\u001b[0;34m(\u001b[0m\u001b[0ma\u001b[0m\u001b[0;34m)\u001b[0m \u001b[0;34m==\u001b[0m \u001b[0mast\u001b[0m\u001b[0;34m.\u001b[0m\u001b[0mdump\u001b[0m\u001b[0;34m(\u001b[0m\u001b[0mb\u001b[0m\u001b[0;34m)\u001b[0m\u001b[0;34m,\u001b[0m \u001b[0;34m\"Assertion Failed\"\u001b[0m\u001b[0;34m\u001b[0m\u001b[0;34m\u001b[0m\u001b[0m\n\u001b[0m\u001b[1;32m     40\u001b[0m   \u001b[0mprint\u001b[0m\u001b[0;34m(\u001b[0m\u001b[0;34m\"Assertion passed\"\u001b[0m\u001b[0;34m)\u001b[0m\u001b[0;34m\u001b[0m\u001b[0;34m\u001b[0m\u001b[0m\n",
            "\u001b[0;31mAssertionError\u001b[0m: Assertion Failed"
          ]
        }
      ]
    },
    {
      "cell_type": "markdown",
      "source": [
        "# Ejercicio 2: If True Transformer\n",
        "Se considera que el siguiente código en python:\n",
        "\n",
        "```python\n",
        "if a > b:\n",
        "    return True\n",
        "  else:\n",
        "    return False\n",
        "```\n",
        "Cree un transformador que auto-repare el código anterior eliminando el if innecesario:\n",
        "\n",
        "```python\n",
        "return a > b\n",
        "```\n"
      ],
      "metadata": {
        "id": "pbrVTjKhCfnv"
      }
    },
    {
      "cell_type": "markdown",
      "source": [
        "## Test Code"
      ],
      "metadata": {
        "id": "IeppOIHiCl_2"
      }
    },
    {
      "cell_type": "code",
      "source": [
        "def if_before(a,b):\n",
        "  if a > b:\n",
        "    return True\n",
        "  else:\n",
        "    return False\n",
        "\n",
        "def if_after(a,b):\n",
        "  return a > b"
      ],
      "metadata": {
        "id": "UShI1hyDCm0p"
      },
      "execution_count": 5,
      "outputs": []
    },
    {
      "cell_type": "markdown",
      "source": [
        "## Complete Transformer"
      ],
      "metadata": {
        "id": "tbgVMs3wC1-A"
      }
    },
    {
      "cell_type": "code",
      "source": [
        "import ast\n",
        "from ast import *\n",
        "import inspect\n",
        "from typing import Any\n",
        "\n",
        "class IfTransformer(ast.NodeTransformer):\n",
        "    pass\n"
      ],
      "metadata": {
        "id": "Gw7q1TRzCz_8"
      },
      "execution_count": 6,
      "outputs": []
    },
    {
      "cell_type": "markdown",
      "source": [
        "## Test"
      ],
      "metadata": {
        "id": "UCx6sN3YComv"
      }
    },
    {
      "cell_type": "code",
      "source": [
        "# Arrange\n",
        "before_ast =  ast.parse(inspect.getsource(if_before))\n",
        "expected_ast =  ast.parse(inspect.getsource(if_after))\n",
        "# Act\n",
        "transformer = IfTransformer()\n",
        "after_ast = transformer.visit(before_ast)\n",
        "ast.fix_missing_locations(after_ast)\n",
        "# Assert\n",
        "ast_fun_assert(after_ast, expected_ast)"
      ],
      "metadata": {
        "id": "MlPMZk9fCpNy",
        "outputId": "9f6e4774-4d06-47f1-8558-ee1ca59340d0",
        "colab": {
          "base_uri": "https://localhost:8080/",
          "height": 291
        }
      },
      "execution_count": 7,
      "outputs": [
        {
          "output_type": "error",
          "ename": "AssertionError",
          "evalue": "Assertion Failed",
          "traceback": [
            "\u001b[0;31m---------------------------------------------------------------------------\u001b[0m",
            "\u001b[0;31mAssertionError\u001b[0m                            Traceback (most recent call last)",
            "\u001b[0;32m<ipython-input-7-d2f36e229e64>\u001b[0m in \u001b[0;36m<cell line: 9>\u001b[0;34m()\u001b[0m\n\u001b[1;32m      7\u001b[0m \u001b[0mast\u001b[0m\u001b[0;34m.\u001b[0m\u001b[0mfix_missing_locations\u001b[0m\u001b[0;34m(\u001b[0m\u001b[0mafter_ast\u001b[0m\u001b[0;34m)\u001b[0m\u001b[0;34m\u001b[0m\u001b[0;34m\u001b[0m\u001b[0m\n\u001b[1;32m      8\u001b[0m \u001b[0;31m# Assert\u001b[0m\u001b[0;34m\u001b[0m\u001b[0;34m\u001b[0m\u001b[0m\n\u001b[0;32m----> 9\u001b[0;31m \u001b[0mast_fun_assert\u001b[0m\u001b[0;34m(\u001b[0m\u001b[0mafter_ast\u001b[0m\u001b[0;34m,\u001b[0m\u001b[0mexpected_ast\u001b[0m\u001b[0;34m)\u001b[0m\u001b[0;34m\u001b[0m\u001b[0;34m\u001b[0m\u001b[0m\n\u001b[0m",
            "\u001b[0;32m<ipython-input-1-802b62107723>\u001b[0m in \u001b[0;36mast_fun_assert\u001b[0;34m(node_A, node_B)\u001b[0m\n\u001b[1;32m     37\u001b[0m   \u001b[0mb\u001b[0m \u001b[0;34m=\u001b[0m \u001b[0mnode_B\u001b[0m\u001b[0;34m.\u001b[0m\u001b[0mbody\u001b[0m\u001b[0;34m[\u001b[0m\u001b[0;36m0\u001b[0m\u001b[0;34m]\u001b[0m\u001b[0;34m\u001b[0m\u001b[0;34m\u001b[0m\u001b[0m\n\u001b[1;32m     38\u001b[0m   \u001b[0mb\u001b[0m\u001b[0;34m.\u001b[0m\u001b[0mname\u001b[0m\u001b[0;34m=\u001b[0m\u001b[0;34m'anom'\u001b[0m\u001b[0;34m\u001b[0m\u001b[0;34m\u001b[0m\u001b[0m\n\u001b[0;32m---> 39\u001b[0;31m   \u001b[0;32massert\u001b[0m \u001b[0mast\u001b[0m\u001b[0;34m.\u001b[0m\u001b[0mdump\u001b[0m\u001b[0;34m(\u001b[0m\u001b[0ma\u001b[0m\u001b[0;34m)\u001b[0m \u001b[0;34m==\u001b[0m \u001b[0mast\u001b[0m\u001b[0;34m.\u001b[0m\u001b[0mdump\u001b[0m\u001b[0;34m(\u001b[0m\u001b[0mb\u001b[0m\u001b[0;34m)\u001b[0m\u001b[0;34m,\u001b[0m \u001b[0;34m\"Assertion Failed\"\u001b[0m\u001b[0;34m\u001b[0m\u001b[0;34m\u001b[0m\u001b[0m\n\u001b[0m\u001b[1;32m     40\u001b[0m   \u001b[0mprint\u001b[0m\u001b[0;34m(\u001b[0m\u001b[0;34m\"Assertion passed\"\u001b[0m\u001b[0;34m)\u001b[0m\u001b[0;34m\u001b[0m\u001b[0;34m\u001b[0m\u001b[0m\n",
            "\u001b[0;31mAssertionError\u001b[0m: Assertion Failed"
          ]
        }
      ]
    },
    {
      "cell_type": "markdown",
      "source": [
        "# Ejercicio 3: Inject a Mutant, replace + by -\n",
        "\n",
        "Se considera que el siguiente código en python:\n",
        "\n",
        "```\n",
        "a + b + c - a - b * 2\n",
        "```\n",
        "Cree un transformador que injecte un mutante al código, reemplazando los + por menos\n",
        "\n",
        "```\n",
        "a - b - c - a - b * 2\n",
        "```"
      ],
      "metadata": {
        "id": "Je8Mlt8-CrDy"
      }
    },
    {
      "cell_type": "markdown",
      "source": [
        "## Test Code"
      ],
      "metadata": {
        "id": "CNbr84DJC6Ir"
      }
    },
    {
      "cell_type": "code",
      "source": [
        "def mutant_before(a,b,c):\n",
        "  return a + b + c - a - b * 2\n",
        "\n",
        "def mutant_after(a,b,c):\n",
        "  return a - b - c - a - b * 2"
      ],
      "metadata": {
        "id": "H4V5goi-C7Ej"
      },
      "execution_count": 8,
      "outputs": []
    },
    {
      "cell_type": "markdown",
      "source": [
        "## Complete Trasnformer\n"
      ],
      "metadata": {
        "id": "KC2hVt8_C8J5"
      }
    },
    {
      "cell_type": "code",
      "source": [
        "class AddToSubTransformer(ast.NodeTransformer):\n",
        "   pass"
      ],
      "metadata": {
        "id": "4kRAJ3GiC-V-"
      },
      "execution_count": 9,
      "outputs": []
    },
    {
      "cell_type": "markdown",
      "source": [
        "## Test"
      ],
      "metadata": {
        "id": "RpI0TP6oC_7C"
      }
    },
    {
      "cell_type": "code",
      "source": [
        "# Arrange\n",
        "before_ast =  ast.parse(inspect.getsource(mutant_before))\n",
        "expected_ast =  ast.parse(inspect.getsource(mutant_after))\n",
        "# Act\n",
        "transformer = AddToSubTransformer()\n",
        "after_ast = transformer.visit(before_ast)\n",
        "ast.fix_missing_locations(after_ast)\n",
        "# Assert\n",
        "ast_fun_assert(after_ast, expected_ast)"
      ],
      "metadata": {
        "id": "P1Bl_z57DB9f",
        "outputId": "06e89bd7-2c6a-4dc3-dd15-01912c4c4acd",
        "colab": {
          "base_uri": "https://localhost:8080/",
          "height": 291
        }
      },
      "execution_count": 10,
      "outputs": [
        {
          "output_type": "error",
          "ename": "AssertionError",
          "evalue": "Assertion Failed",
          "traceback": [
            "\u001b[0;31m---------------------------------------------------------------------------\u001b[0m",
            "\u001b[0;31mAssertionError\u001b[0m                            Traceback (most recent call last)",
            "\u001b[0;32m<ipython-input-10-cfc24f85447b>\u001b[0m in \u001b[0;36m<cell line: 9>\u001b[0;34m()\u001b[0m\n\u001b[1;32m      7\u001b[0m \u001b[0mast\u001b[0m\u001b[0;34m.\u001b[0m\u001b[0mfix_missing_locations\u001b[0m\u001b[0;34m(\u001b[0m\u001b[0mafter_ast\u001b[0m\u001b[0;34m)\u001b[0m\u001b[0;34m\u001b[0m\u001b[0;34m\u001b[0m\u001b[0m\n\u001b[1;32m      8\u001b[0m \u001b[0;31m# Assert\u001b[0m\u001b[0;34m\u001b[0m\u001b[0;34m\u001b[0m\u001b[0m\n\u001b[0;32m----> 9\u001b[0;31m \u001b[0mast_fun_assert\u001b[0m\u001b[0;34m(\u001b[0m\u001b[0mafter_ast\u001b[0m\u001b[0;34m,\u001b[0m\u001b[0mexpected_ast\u001b[0m\u001b[0;34m)\u001b[0m\u001b[0;34m\u001b[0m\u001b[0;34m\u001b[0m\u001b[0m\n\u001b[0m",
            "\u001b[0;32m<ipython-input-1-802b62107723>\u001b[0m in \u001b[0;36mast_fun_assert\u001b[0;34m(node_A, node_B)\u001b[0m\n\u001b[1;32m     37\u001b[0m   \u001b[0mb\u001b[0m \u001b[0;34m=\u001b[0m \u001b[0mnode_B\u001b[0m\u001b[0;34m.\u001b[0m\u001b[0mbody\u001b[0m\u001b[0;34m[\u001b[0m\u001b[0;36m0\u001b[0m\u001b[0;34m]\u001b[0m\u001b[0;34m\u001b[0m\u001b[0;34m\u001b[0m\u001b[0m\n\u001b[1;32m     38\u001b[0m   \u001b[0mb\u001b[0m\u001b[0;34m.\u001b[0m\u001b[0mname\u001b[0m\u001b[0;34m=\u001b[0m\u001b[0;34m'anom'\u001b[0m\u001b[0;34m\u001b[0m\u001b[0;34m\u001b[0m\u001b[0m\n\u001b[0;32m---> 39\u001b[0;31m   \u001b[0;32massert\u001b[0m \u001b[0mast\u001b[0m\u001b[0;34m.\u001b[0m\u001b[0mdump\u001b[0m\u001b[0;34m(\u001b[0m\u001b[0ma\u001b[0m\u001b[0;34m)\u001b[0m \u001b[0;34m==\u001b[0m \u001b[0mast\u001b[0m\u001b[0;34m.\u001b[0m\u001b[0mdump\u001b[0m\u001b[0;34m(\u001b[0m\u001b[0mb\u001b[0m\u001b[0;34m)\u001b[0m\u001b[0;34m,\u001b[0m \u001b[0;34m\"Assertion Failed\"\u001b[0m\u001b[0;34m\u001b[0m\u001b[0;34m\u001b[0m\u001b[0m\n\u001b[0m\u001b[1;32m     40\u001b[0m   \u001b[0mprint\u001b[0m\u001b[0;34m(\u001b[0m\u001b[0;34m\"Assertion passed\"\u001b[0m\u001b[0;34m)\u001b[0m\u001b[0;34m\u001b[0m\u001b[0;34m\u001b[0m\u001b[0m\n",
            "\u001b[0;31mAssertionError\u001b[0m: Assertion Failed"
          ]
        }
      ]
    },
    {
      "cell_type": "markdown",
      "source": [
        "# Ejercicio 4: Template Method\n",
        "Dada una clase con un método que llama a metodos de la clase hija, completela declarando los metodos faltantes en la clase para obligar a la clase hija a sobre-escribirlos.\n",
        "\n",
        "Complete la clase **AddMissingMethodsTransformer**\n"
      ],
      "metadata": {
        "id": "8Hs8p7sxA5wS"
      }
    },
    {
      "cell_type": "markdown",
      "source": [
        "## Input"
      ],
      "metadata": {
        "id": "9lg4qLrABhwS"
      }
    },
    {
      "cell_type": "code",
      "source": [
        "# code: ReportMatchineV1\n",
        "class ReportMachine:\n",
        "  def export(self):\n",
        "    self.exportHeader()\n",
        "    self.exportBody()\n",
        "    self.exportFooter()\n",
        "\n",
        "  def exportHeader(self):\n",
        "    print(\"This is a really nice report\")"
      ],
      "metadata": {
        "id": "nw5K505MA-94"
      },
      "execution_count": 12,
      "outputs": []
    },
    {
      "cell_type": "markdown",
      "source": [
        "## Output"
      ],
      "metadata": {
        "id": "iHItqwqcBO6u"
      }
    },
    {
      "cell_type": "code",
      "source": [
        "# code: ReportMatchineV2\n",
        "class ReportMachine:\n",
        "  def export(self):\n",
        "    self.exportHeader()\n",
        "    self.exportBody()\n",
        "    self.exportFooter()\n",
        "\n",
        "  def exportHeader(self):\n",
        "    print(\"This is a really nice report\")\n",
        "\n",
        "  def exportBody(self):\n",
        "    pass\n",
        "\n",
        "  def exportFooter(self):\n",
        "    pass"
      ],
      "metadata": {
        "id": "IYf-yWoUBBg6"
      },
      "execution_count": 13,
      "outputs": []
    },
    {
      "cell_type": "markdown",
      "source": [
        "## Classes to help you"
      ],
      "metadata": {
        "id": "70q43W1jByLN"
      }
    },
    {
      "cell_type": "code",
      "source": [
        "import ast\n",
        "\n",
        "class DefinedMethodsVisitor(ast.NodeVisitor):\n",
        "    def __init__(self):\n",
        "        self.defined_methods = set()\n",
        "\n",
        "    def visit_FunctionDef(self, node):\n",
        "        self.defined_methods.add(node.name)\n",
        "        self.generic_visit(node)\n",
        "\n",
        "class MethodCallsVisitor(ast.NodeVisitor):\n",
        "    def __init__(self):\n",
        "        self.called_methods = []\n",
        "\n",
        "    def visit_Attribute(self, node):\n",
        "        if isinstance(node.value, ast.Name) and node.value.id == 'self':\n",
        "          if node.attr not in self.called_methods:\n",
        "            self.called_methods.append(node.attr)\n",
        "        self.generic_visit(node)"
      ],
      "metadata": {
        "id": "43KmW7MtBEU2"
      },
      "execution_count": 14,
      "outputs": []
    },
    {
      "cell_type": "markdown",
      "source": [
        "## Complete the trasnformer"
      ],
      "metadata": {
        "id": "7Fd666LdBVdz"
      }
    },
    {
      "cell_type": "code",
      "source": [
        "class AddMissingMethodsTransformer(ast.NodeTransformer):\n",
        "  def __init__(self, missing_methods):\n",
        "        self.missing_methods = missing_methods\n",
        "  # Completa tu código a continuación\n"
      ],
      "metadata": {
        "id": "mtQeY-kJBUXf"
      },
      "execution_count": 18,
      "outputs": []
    },
    {
      "cell_type": "markdown",
      "source": [
        "## Method to Test"
      ],
      "metadata": {
        "id": "T3XG6mgXBZLc"
      }
    },
    {
      "cell_type": "code",
      "source": [
        "def transform(class_ast):\n",
        "  defined_visitor = DefinedMethodsVisitor()\n",
        "  defined_visitor.visit(class_ast)\n",
        "  calls_visitor = MethodCallsVisitor()\n",
        "  calls_visitor.visit(class_ast)\n",
        "\n",
        "  undefined_methods = []\n",
        "  for ma in calls_visitor.called_methods:\n",
        "    if ma not in defined_visitor.defined_methods:\n",
        "      undefined_methods.append(ma)\n",
        "\n",
        "\n",
        "  transformer = AddMissingMethodsTransformer(undefined_methods)\n",
        "  transformed_tree = transformer.visit(class_ast)\n",
        "  ast.fix_missing_locations(class_ast)\n",
        "  return transformed_tree\n"
      ],
      "metadata": {
        "id": "akSVjMS-BGLI"
      },
      "execution_count": 19,
      "outputs": []
    },
    {
      "cell_type": "markdown",
      "source": [
        "## Test"
      ],
      "metadata": {
        "id": "P6duItJLBHkY"
      }
    },
    {
      "cell_type": "code",
      "source": [
        "# Arrange\n",
        "before_ast =  ast.parse(source_cell(\"ReportMatchineV1\"))\n",
        "expected_ast =  ast.parse(source_cell(\"ReportMatchineV2\"))\n",
        "\n",
        "# Act\n",
        "after_ast = transform(before_ast)\n",
        "# Assert\n",
        "ast_cls_assert(after_ast, expected_ast)"
      ],
      "metadata": {
        "id": "3OyOEL25BJG3",
        "outputId": "2e9366ad-a4b0-44dc-eb26-274b3dd224f3",
        "colab": {
          "base_uri": "https://localhost:8080/",
          "height": 781
        }
      },
      "execution_count": 20,
      "outputs": [
        {
          "output_type": "stream",
          "name": "stdout",
          "text": [
            "Result:\n",
            "class ReportMachine:\n",
            "\n",
            "    def export(self):\n",
            "        self.exportHeader()\n",
            "        self.exportBody()\n",
            "        self.exportFooter()\n",
            "\n",
            "    def exportHeader(self):\n",
            "        print('This is a really nice report')\n",
            "Expected:\n",
            "class ReportMachine:\n",
            "\n",
            "    def export(self):\n",
            "        self.exportHeader()\n",
            "        self.exportBody()\n",
            "        self.exportFooter()\n",
            "\n",
            "    def exportHeader(self):\n",
            "        print('This is a really nice report')\n",
            "\n",
            "    def exportBody(self):\n",
            "        pass\n",
            "\n",
            "    def exportFooter(self):\n",
            "        pass\n"
          ]
        },
        {
          "output_type": "error",
          "ename": "AssertionError",
          "evalue": "Assertion Failed",
          "traceback": [
            "\u001b[0;31m---------------------------------------------------------------------------\u001b[0m",
            "\u001b[0;31mAssertionError\u001b[0m                            Traceback (most recent call last)",
            "\u001b[0;32m<ipython-input-20-fa308c56d7d6>\u001b[0m in \u001b[0;36m<cell line: 8>\u001b[0;34m()\u001b[0m\n\u001b[1;32m      6\u001b[0m \u001b[0mafter_ast\u001b[0m \u001b[0;34m=\u001b[0m \u001b[0mtransform\u001b[0m\u001b[0;34m(\u001b[0m\u001b[0mbefore_ast\u001b[0m\u001b[0;34m)\u001b[0m\u001b[0;34m\u001b[0m\u001b[0;34m\u001b[0m\u001b[0m\n\u001b[1;32m      7\u001b[0m \u001b[0;31m# Assert\u001b[0m\u001b[0;34m\u001b[0m\u001b[0;34m\u001b[0m\u001b[0m\n\u001b[0;32m----> 8\u001b[0;31m \u001b[0mast_cls_assert\u001b[0m\u001b[0;34m(\u001b[0m\u001b[0mafter_ast\u001b[0m\u001b[0;34m,\u001b[0m\u001b[0mexpected_ast\u001b[0m\u001b[0;34m)\u001b[0m\u001b[0;34m\u001b[0m\u001b[0;34m\u001b[0m\u001b[0m\n\u001b[0m",
            "\u001b[0;32m<ipython-input-1-802b62107723>\u001b[0m in \u001b[0;36mast_cls_assert\u001b[0;34m(node_A, node_B)\u001b[0m\n\u001b[1;32m     24\u001b[0m   \u001b[0mprint\u001b[0m\u001b[0;34m(\u001b[0m\u001b[0;34m\"Expected:\"\u001b[0m\u001b[0;34m)\u001b[0m\u001b[0;34m\u001b[0m\u001b[0;34m\u001b[0m\u001b[0m\n\u001b[1;32m     25\u001b[0m   \u001b[0mprint\u001b[0m\u001b[0;34m(\u001b[0m\u001b[0mast\u001b[0m\u001b[0;34m.\u001b[0m\u001b[0munparse\u001b[0m\u001b[0;34m(\u001b[0m\u001b[0mnode_B\u001b[0m\u001b[0;34m)\u001b[0m\u001b[0;34m)\u001b[0m\u001b[0;34m\u001b[0m\u001b[0;34m\u001b[0m\u001b[0m\n\u001b[0;32m---> 26\u001b[0;31m   \u001b[0;32massert\u001b[0m \u001b[0mast\u001b[0m\u001b[0;34m.\u001b[0m\u001b[0mdump\u001b[0m\u001b[0;34m(\u001b[0m\u001b[0mnode_A\u001b[0m\u001b[0;34m)\u001b[0m \u001b[0;34m==\u001b[0m \u001b[0mast\u001b[0m\u001b[0;34m.\u001b[0m\u001b[0mdump\u001b[0m\u001b[0;34m(\u001b[0m\u001b[0mnode_B\u001b[0m\u001b[0;34m)\u001b[0m\u001b[0;34m,\u001b[0m \u001b[0;34m\"Assertion Failed\"\u001b[0m\u001b[0;34m\u001b[0m\u001b[0;34m\u001b[0m\u001b[0m\n\u001b[0m\u001b[1;32m     27\u001b[0m   \u001b[0mprint\u001b[0m\u001b[0;34m(\u001b[0m\u001b[0;34m\"Assertion passed\"\u001b[0m\u001b[0;34m)\u001b[0m\u001b[0;34m\u001b[0m\u001b[0;34m\u001b[0m\u001b[0m\n\u001b[1;32m     28\u001b[0m \u001b[0;34m\u001b[0m\u001b[0m\n",
            "\u001b[0;31mAssertionError\u001b[0m: Assertion Failed"
          ]
        }
      ]
    },
    {
      "cell_type": "markdown",
      "source": [
        "# Ejercicio 5: Override __str__\n",
        "Automaticamente sobrescribir el método `__str__`\n",
        "\n",
        "Complete la clase **StrMethodInjector**\n"
      ],
      "metadata": {
        "id": "ndoH83ITBlGp"
      }
    },
    {
      "cell_type": "markdown",
      "source": [
        "## Input"
      ],
      "metadata": {
        "id": "hW5G0szVBqAM"
      }
    },
    {
      "cell_type": "code",
      "source": [
        "# code: RectangleV1\n",
        "class Rectangle():\n",
        "  def __init__(self):\n",
        "    self.x = 5\n",
        "    self.y = 5\n",
        "    self.width =  100\n",
        "    self.height =  200"
      ],
      "metadata": {
        "id": "H4RvssClBqw-"
      },
      "execution_count": 21,
      "outputs": []
    },
    {
      "cell_type": "markdown",
      "source": [
        "## Output"
      ],
      "metadata": {
        "id": "HipD-3GXBs-V"
      }
    },
    {
      "cell_type": "code",
      "source": [
        "# code: RectangleV2\n",
        "class Rectangle():\n",
        "  def __init__(self):\n",
        "    self.x = 5\n",
        "    self.y = 5\n",
        "    self.width =  100\n",
        "    self.height =  200\n",
        "  def __str__(self):\n",
        "    return f'Rectangle: x={self.x} y={self.y} width={self.width} height={self.height}'"
      ],
      "metadata": {
        "id": "oM2mhfYYBt35"
      },
      "execution_count": 22,
      "outputs": []
    },
    {
      "cell_type": "markdown",
      "source": [
        "## Classes to help you"
      ],
      "metadata": {
        "id": "QkyZamK8Buh0"
      }
    },
    {
      "cell_type": "code",
      "source": [
        "import ast\n",
        "\n",
        "class ClassInspector(ast.NodeVisitor):\n",
        "    def __init__(self):\n",
        "        self.methods = []      # To store method names\n",
        "        self.attributes = []   # To store self attributes\n",
        "        self.class_name = \"\"\n",
        "\n",
        "    def visit_FunctionDef(self, node):\n",
        "        # Collect the name of every method in the class\n",
        "        if node.name not in self.methods:\n",
        "          self.methods.append(node.name)\n",
        "        self.generic_visit(node)  # Visit the body of the function to find attributes\n",
        "\n",
        "    def visit_ClassDef(self, node: ClassDef) -> Any:\n",
        "        self.class_name = node.name\n",
        "        self.generic_visit(node)\n",
        "\n",
        "    def visit_Attribute(self, node):\n",
        "        # Collect attributes accessed through 'self'\n",
        "        if isinstance(node.value, ast.Name) and node.value.id == 'self':\n",
        "          if node.attr not in self.attributes:\n",
        "            self.attributes.append(node.attr)\n",
        "        self.generic_visit(node)\n",
        "\n",
        "    def get_non_method_attributes(self):\n",
        "        # Attributes that are not methods\n",
        "        attrs =[]\n",
        "        for a in self.attributes:\n",
        "          if a not in self.methods:\n",
        "            attrs.append(a)\n",
        "\n",
        "        return attrs\n",
        "\n",
        "    def get_class_name(self):\n",
        "        return self.class_name\n"
      ],
      "metadata": {
        "id": "ROGu5ponB5WF"
      },
      "execution_count": 23,
      "outputs": []
    },
    {
      "cell_type": "markdown",
      "source": [
        "## Complete the trasnformer"
      ],
      "metadata": {
        "id": "9UtTh1J9B7l1"
      }
    },
    {
      "cell_type": "code",
      "source": [
        "class StrMethodInjector(ast.NodeTransformer):\n",
        "    # Complete\n",
        "    pass\n"
      ],
      "metadata": {
        "id": "-qfwwX3zB8_8"
      },
      "execution_count": 24,
      "outputs": []
    },
    {
      "cell_type": "markdown",
      "source": [
        "## Method to Test"
      ],
      "metadata": {
        "id": "hS91VyKxB-ke"
      }
    },
    {
      "cell_type": "code",
      "source": [
        "def transform2(class_ast):\n",
        "  inspector = ClassInspector()\n",
        "  inspector.visit(class_ast)\n",
        "\n",
        "  transformer = StrMethodInjector(inspector.get_non_method_attributes(), inspector.get_class_name())\n",
        "  transformed_tree = transformer.visit(class_ast)\n",
        "  ast.fix_missing_locations(class_ast)\n",
        "  return transformed_tree\n",
        "\n"
      ],
      "metadata": {
        "id": "IIw1Yi4vB_4m"
      },
      "execution_count": 25,
      "outputs": []
    },
    {
      "cell_type": "markdown",
      "source": [
        "## Test"
      ],
      "metadata": {
        "id": "GFemuIAWCAga"
      }
    },
    {
      "cell_type": "code",
      "source": [
        "# Arrange\n",
        "before_ast =  ast.parse(source_cell(\"RectangleV1\"))\n",
        "expected_ast =  ast.parse(source_cell(\"RectangleV2\"))\n",
        "# Act\n",
        "after_ast = transform2(before_ast)\n",
        "# Assert\n",
        "ast_cls_assert(after_ast, expected_ast)"
      ],
      "metadata": {
        "id": "8eF6JeNbCCYf",
        "outputId": "a7d28372-3801-4486-ae07-7169ca92d8a5",
        "colab": {
          "base_uri": "https://localhost:8080/",
          "height": 346
        }
      },
      "execution_count": 26,
      "outputs": [
        {
          "output_type": "error",
          "ename": "TypeError",
          "evalue": "StrMethodInjector() takes no arguments",
          "traceback": [
            "\u001b[0;31m---------------------------------------------------------------------------\u001b[0m",
            "\u001b[0;31mTypeError\u001b[0m                                 Traceback (most recent call last)",
            "\u001b[0;32m<ipython-input-26-dacc6f604bb5>\u001b[0m in \u001b[0;36m<cell line: 5>\u001b[0;34m()\u001b[0m\n\u001b[1;32m      3\u001b[0m \u001b[0mexpected_ast\u001b[0m \u001b[0;34m=\u001b[0m  \u001b[0mast\u001b[0m\u001b[0;34m.\u001b[0m\u001b[0mparse\u001b[0m\u001b[0;34m(\u001b[0m\u001b[0msource_cell\u001b[0m\u001b[0;34m(\u001b[0m\u001b[0;34m\"RectangleV2\"\u001b[0m\u001b[0;34m)\u001b[0m\u001b[0;34m)\u001b[0m\u001b[0;34m\u001b[0m\u001b[0;34m\u001b[0m\u001b[0m\n\u001b[1;32m      4\u001b[0m \u001b[0;31m# Act\u001b[0m\u001b[0;34m\u001b[0m\u001b[0;34m\u001b[0m\u001b[0m\n\u001b[0;32m----> 5\u001b[0;31m \u001b[0mafter_ast\u001b[0m \u001b[0;34m=\u001b[0m \u001b[0mtransform2\u001b[0m\u001b[0;34m(\u001b[0m\u001b[0mbefore_ast\u001b[0m\u001b[0;34m)\u001b[0m\u001b[0;34m\u001b[0m\u001b[0;34m\u001b[0m\u001b[0m\n\u001b[0m\u001b[1;32m      6\u001b[0m \u001b[0;31m# Assert\u001b[0m\u001b[0;34m\u001b[0m\u001b[0;34m\u001b[0m\u001b[0m\n\u001b[1;32m      7\u001b[0m \u001b[0mast_cls_assert\u001b[0m\u001b[0;34m(\u001b[0m\u001b[0mafter_ast\u001b[0m\u001b[0;34m,\u001b[0m\u001b[0mexpected_ast\u001b[0m\u001b[0;34m)\u001b[0m\u001b[0;34m\u001b[0m\u001b[0;34m\u001b[0m\u001b[0m\n",
            "\u001b[0;32m<ipython-input-25-3d8e98fade68>\u001b[0m in \u001b[0;36mtransform2\u001b[0;34m(class_ast)\u001b[0m\n\u001b[1;32m      3\u001b[0m   \u001b[0minspector\u001b[0m\u001b[0;34m.\u001b[0m\u001b[0mvisit\u001b[0m\u001b[0;34m(\u001b[0m\u001b[0mclass_ast\u001b[0m\u001b[0;34m)\u001b[0m\u001b[0;34m\u001b[0m\u001b[0;34m\u001b[0m\u001b[0m\n\u001b[1;32m      4\u001b[0m \u001b[0;34m\u001b[0m\u001b[0m\n\u001b[0;32m----> 5\u001b[0;31m   \u001b[0mtransformer\u001b[0m \u001b[0;34m=\u001b[0m \u001b[0mStrMethodInjector\u001b[0m\u001b[0;34m(\u001b[0m\u001b[0minspector\u001b[0m\u001b[0;34m.\u001b[0m\u001b[0mget_non_method_attributes\u001b[0m\u001b[0;34m(\u001b[0m\u001b[0;34m)\u001b[0m\u001b[0;34m,\u001b[0m \u001b[0minspector\u001b[0m\u001b[0;34m.\u001b[0m\u001b[0mget_class_name\u001b[0m\u001b[0;34m(\u001b[0m\u001b[0;34m)\u001b[0m\u001b[0;34m)\u001b[0m\u001b[0;34m\u001b[0m\u001b[0;34m\u001b[0m\u001b[0m\n\u001b[0m\u001b[1;32m      6\u001b[0m   \u001b[0mtransformed_tree\u001b[0m \u001b[0;34m=\u001b[0m \u001b[0mtransformer\u001b[0m\u001b[0;34m.\u001b[0m\u001b[0mvisit\u001b[0m\u001b[0;34m(\u001b[0m\u001b[0mclass_ast\u001b[0m\u001b[0;34m)\u001b[0m\u001b[0;34m\u001b[0m\u001b[0;34m\u001b[0m\u001b[0m\n\u001b[1;32m      7\u001b[0m   \u001b[0mast\u001b[0m\u001b[0;34m.\u001b[0m\u001b[0mfix_missing_locations\u001b[0m\u001b[0;34m(\u001b[0m\u001b[0mclass_ast\u001b[0m\u001b[0;34m)\u001b[0m\u001b[0;34m\u001b[0m\u001b[0;34m\u001b[0m\u001b[0m\n",
            "\u001b[0;31mTypeError\u001b[0m: StrMethodInjector() takes no arguments"
          ]
        }
      ]
    }
  ]
}